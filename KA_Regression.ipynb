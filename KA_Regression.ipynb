{
  "nbformat": 4,
  "nbformat_minor": 0,
  "metadata": {
    "colab": {
      "name": "KA-Regression.ipynb",
      "provenance": [],
      "collapsed_sections": []
    },
    "kernelspec": {
      "name": "python3",
      "display_name": "Python 3"
    }
  },
  "cells": [
    {
      "cell_type": "code",
      "metadata": {
        "id": "kW4Dxj5JDHcw",
        "colab_type": "code",
        "outputId": "d7b34ca6-97d6-40e6-ef45-ff1c3a39b71f",
        "colab": {
          "base_uri": "https://localhost:8080/",
          "height": 35
        }
      },
      "source": [
        "%tensorflow_version 2.x"
      ],
      "execution_count": 0,
      "outputs": [
        {
          "output_type": "stream",
          "text": [
            "TensorFlow 2.x selected.\n"
          ],
          "name": "stdout"
        }
      ]
    },
    {
      "cell_type": "markdown",
      "metadata": {
        "id": "djsJLnLHFcJb",
        "colab_type": "text"
      },
      "source": [
        "##I am working on white-wine quality dataset which is present on UCI Machine Learning Repository. The goal is to predict the wine quality based on different features. \n",
        "##The diffrent features were:\n",
        "\n",
        "\n",
        "##**Input variables (based on physicochemical tests)**:\n",
        "###1 - fixed acidity\n",
        "###2 - volatile acidity\n",
        "###3 - citric acid\n",
        "###4 - residual sugar\n",
        "###5 - chlorides\n",
        "###6 - free sulfur dioxide\n",
        "###7 - total sulfur dioxide\n",
        "###8 - density\n",
        "###9 - pH\n",
        "###10 - sulphates\n",
        "###11 - alcohol\n",
        "\n",
        "\n",
        "##**Output variable (based on sensory data):**\n",
        "###12 - quality (score between 0 and 10) "
      ]
    },
    {
      "cell_type": "code",
      "metadata": {
        "id": "WIfSwdrxDOeg",
        "colab_type": "code",
        "colab": {}
      },
      "source": [
        "\n",
        "import pandas as pd\n",
        "import requests\n",
        "import io"
      ],
      "execution_count": 0,
      "outputs": []
    },
    {
      "cell_type": "markdown",
      "metadata": {
        "id": "s_TO0YFOIPh4",
        "colab_type": "text"
      },
      "source": [
        "##Here I am trying to download the dataset from UCI website. I have the url of the dataset. \n",
        "\n",
        "\n",
        "\n",
        "##Then I have used requests library to retrive information from URL.One of the most common HTTP methodsof this library is GET. The GET method indicates that you’re trying to get or retrieve data from a specified resource. \n",
        "\n",
        "\n",
        "\n",
        "##Then i am using pandas library to read the csv file and io library for the formatting of the file. Delimiter \";\" is also passed as a parameter to insure that the data is read correctly."
      ]
    },
    {
      "cell_type": "code",
      "metadata": {
        "id": "gwSHbRejEaHu",
        "colab_type": "code",
        "colab": {}
      },
      "source": [
        "url = \"https://archive.ics.uci.edu/ml/machine-learning-databases/wine-quality/winequality-white.csv\"\n",
        "u = requests.get(url).content\n",
        "dataset = pd.read_csv(io.StringIO(u.decode('utf-8')) , delimiter = \";\" , skipinitialspace = True)"
      ],
      "execution_count": 0,
      "outputs": []
    },
    {
      "cell_type": "markdown",
      "metadata": {
        "id": "xTk041z6J2en",
        "colab_type": "text"
      },
      "source": [
        "##Displaying some part of dataset extracted"
      ]
    },
    {
      "cell_type": "code",
      "metadata": {
        "id": "ssQHCF-0jyWj",
        "colab_type": "code",
        "outputId": "5c69b1ef-0fc9-44ea-c6dc-8329e507af1e",
        "colab": {
          "base_uri": "https://localhost:8080/",
          "height": 224
        }
      },
      "source": [
        "dataset.tail()"
      ],
      "execution_count": 0,
      "outputs": [
        {
          "output_type": "execute_result",
          "data": {
            "text/html": [
              "<div>\n",
              "<style scoped>\n",
              "    .dataframe tbody tr th:only-of-type {\n",
              "        vertical-align: middle;\n",
              "    }\n",
              "\n",
              "    .dataframe tbody tr th {\n",
              "        vertical-align: top;\n",
              "    }\n",
              "\n",
              "    .dataframe thead th {\n",
              "        text-align: right;\n",
              "    }\n",
              "</style>\n",
              "<table border=\"1\" class=\"dataframe\">\n",
              "  <thead>\n",
              "    <tr style=\"text-align: right;\">\n",
              "      <th></th>\n",
              "      <th>fixed acidity</th>\n",
              "      <th>volatile acidity</th>\n",
              "      <th>citric acid</th>\n",
              "      <th>residual sugar</th>\n",
              "      <th>chlorides</th>\n",
              "      <th>free sulfur dioxide</th>\n",
              "      <th>total sulfur dioxide</th>\n",
              "      <th>density</th>\n",
              "      <th>pH</th>\n",
              "      <th>sulphates</th>\n",
              "      <th>alcohol</th>\n",
              "      <th>quality</th>\n",
              "    </tr>\n",
              "  </thead>\n",
              "  <tbody>\n",
              "    <tr>\n",
              "      <th>4893</th>\n",
              "      <td>6.2</td>\n",
              "      <td>0.21</td>\n",
              "      <td>0.29</td>\n",
              "      <td>1.6</td>\n",
              "      <td>0.039</td>\n",
              "      <td>24.0</td>\n",
              "      <td>92.0</td>\n",
              "      <td>0.99114</td>\n",
              "      <td>3.27</td>\n",
              "      <td>0.50</td>\n",
              "      <td>11.2</td>\n",
              "      <td>6</td>\n",
              "    </tr>\n",
              "    <tr>\n",
              "      <th>4894</th>\n",
              "      <td>6.6</td>\n",
              "      <td>0.32</td>\n",
              "      <td>0.36</td>\n",
              "      <td>8.0</td>\n",
              "      <td>0.047</td>\n",
              "      <td>57.0</td>\n",
              "      <td>168.0</td>\n",
              "      <td>0.99490</td>\n",
              "      <td>3.15</td>\n",
              "      <td>0.46</td>\n",
              "      <td>9.6</td>\n",
              "      <td>5</td>\n",
              "    </tr>\n",
              "    <tr>\n",
              "      <th>4895</th>\n",
              "      <td>6.5</td>\n",
              "      <td>0.24</td>\n",
              "      <td>0.19</td>\n",
              "      <td>1.2</td>\n",
              "      <td>0.041</td>\n",
              "      <td>30.0</td>\n",
              "      <td>111.0</td>\n",
              "      <td>0.99254</td>\n",
              "      <td>2.99</td>\n",
              "      <td>0.46</td>\n",
              "      <td>9.4</td>\n",
              "      <td>6</td>\n",
              "    </tr>\n",
              "    <tr>\n",
              "      <th>4896</th>\n",
              "      <td>5.5</td>\n",
              "      <td>0.29</td>\n",
              "      <td>0.30</td>\n",
              "      <td>1.1</td>\n",
              "      <td>0.022</td>\n",
              "      <td>20.0</td>\n",
              "      <td>110.0</td>\n",
              "      <td>0.98869</td>\n",
              "      <td>3.34</td>\n",
              "      <td>0.38</td>\n",
              "      <td>12.8</td>\n",
              "      <td>7</td>\n",
              "    </tr>\n",
              "    <tr>\n",
              "      <th>4897</th>\n",
              "      <td>6.0</td>\n",
              "      <td>0.21</td>\n",
              "      <td>0.38</td>\n",
              "      <td>0.8</td>\n",
              "      <td>0.020</td>\n",
              "      <td>22.0</td>\n",
              "      <td>98.0</td>\n",
              "      <td>0.98941</td>\n",
              "      <td>3.26</td>\n",
              "      <td>0.32</td>\n",
              "      <td>11.8</td>\n",
              "      <td>6</td>\n",
              "    </tr>\n",
              "  </tbody>\n",
              "</table>\n",
              "</div>"
            ],
            "text/plain": [
              "      fixed acidity  volatile acidity  citric acid  ...  sulphates  alcohol  quality\n",
              "4893            6.2              0.21         0.29  ...       0.50     11.2        6\n",
              "4894            6.6              0.32         0.36  ...       0.46      9.6        5\n",
              "4895            6.5              0.24         0.19  ...       0.46      9.4        6\n",
              "4896            5.5              0.29         0.30  ...       0.38     12.8        7\n",
              "4897            6.0              0.21         0.38  ...       0.32     11.8        6\n",
              "\n",
              "[5 rows x 12 columns]"
            ]
          },
          "metadata": {
            "tags": []
          },
          "execution_count": 4
        }
      ]
    },
    {
      "cell_type": "markdown",
      "metadata": {
        "id": "phr7Rd-uKIWU",
        "colab_type": "text"
      },
      "source": [
        "##Extracting the label and targets from dataset."
      ]
    },
    {
      "cell_type": "code",
      "metadata": {
        "id": "HBDmbuqYvI5x",
        "colab_type": "code",
        "colab": {}
      },
      "source": [
        "x = dataset.drop('quality' , axis = 1)\n",
        "y = dataset['quality']"
      ],
      "execution_count": 0,
      "outputs": []
    },
    {
      "cell_type": "markdown",
      "metadata": {
        "id": "-zFIWNXuKYRq",
        "colab_type": "text"
      },
      "source": [
        "#**Data Preprocessing**\n",
        "##Using model_selection class of sklearn library to import train_test_split function. And from this function, I have created the training set , validation data and test set dataset"
      ]
    },
    {
      "cell_type": "code",
      "metadata": {
        "id": "m4ndj-cyyEcZ",
        "colab_type": "code",
        "colab": {}
      },
      "source": [
        "from sklearn.model_selection import train_test_split\n",
        "x_train_1 , x_test , y_train_1 , y_test = train_test_split(x , y , test_size = 0.15 , random_state = 0)\n",
        "x_train , x_val , y_train , y_val = train_test_split(x_train_1 , y_train_1 , test_size = 0.05 , random_state = 0)\n"
      ],
      "execution_count": 0,
      "outputs": []
    },
    {
      "cell_type": "markdown",
      "metadata": {
        "id": "WwenZK_mK_A6",
        "colab_type": "text"
      },
      "source": [
        "##Using StandardScaler class from sklearn.preprocessing module. It is used to standarize the values of dataset which is essential and is needed to fed as a standarized input for a neural network model. "
      ]
    },
    {
      "cell_type": "code",
      "metadata": {
        "id": "3BLvjyH12kW5",
        "colab_type": "code",
        "colab": {}
      },
      "source": [
        "from sklearn.preprocessing import StandardScaler\n",
        "sc_x = StandardScaler()\n",
        "#Here sc_x is used to understand the structure of training dataset , applying formulas and then transforming the training dataset.\n",
        "x_train_new = sc_x.fit_transform(x_train)\n",
        "#Here we don't need to fit it again.\n",
        "x_test_new  = sc_x.transform(x_test)\n",
        "x_val_new  = sc_x.transform(x_val)"
      ],
      "execution_count": 0,
      "outputs": []
    },
    {
      "cell_type": "markdown",
      "metadata": {
        "id": "IuEhGrahMFJ7",
        "colab_type": "text"
      },
      "source": [
        "##Displaying the first row which has 11 features as input. We can see the transformed traing set."
      ]
    },
    {
      "cell_type": "code",
      "metadata": {
        "id": "ii_f8l3H3InH",
        "colab_type": "code",
        "outputId": "674a4683-ab9f-4451-9c9a-15770d19d415",
        "colab": {
          "base_uri": "https://localhost:8080/",
          "height": 72
        }
      },
      "source": [
        "x_train_new[:1,:]"
      ],
      "execution_count": 0,
      "outputs": [
        {
          "output_type": "execute_result",
          "data": {
            "text/plain": [
              "array([[-0.30058233, -0.57817931,  0.30787534, -0.94743849, -0.26459457,\n",
              "        -0.25520459, -0.87925466, -1.33396223, -0.2545166 ,  1.47316561,\n",
              "         1.20568736]])"
            ]
          },
          "metadata": {
            "tags": []
          },
          "execution_count": 8
        }
      ]
    },
    {
      "cell_type": "markdown",
      "metadata": {
        "id": "Iwyt_jA3MP8a",
        "colab_type": "text"
      },
      "source": [
        "##Displaying the first 5 rows and only 2 features as coulmn per row, which is fixed acidity and volatile acidity."
      ]
    },
    {
      "cell_type": "code",
      "metadata": {
        "id": "Tj79cxLIPNkQ",
        "colab_type": "code",
        "outputId": "57774a1b-fa1c-45fb-c9ed-5beae8eced4e",
        "colab": {
          "base_uri": "https://localhost:8080/",
          "height": 109
        }
      },
      "source": [
        "x_train_new[:5, :2]"
      ],
      "execution_count": 0,
      "outputs": [
        {
          "output_type": "execute_result",
          "data": {
            "text/plain": [
              "array([[-0.30058233, -0.57817931],\n",
              "       [-1.37286171,  0.81856485],\n",
              "       [-0.18144018, -0.37864443],\n",
              "       [-1.25371955, -0.77771419],\n",
              "       [ 0.65255489,  0.61902997]])"
            ]
          },
          "metadata": {
            "tags": []
          },
          "execution_count": 9
        }
      ]
    },
    {
      "cell_type": "code",
      "metadata": {
        "id": "JiBG36zPMdze",
        "colab_type": "code",
        "outputId": "628bbc23-6a18-45ef-90d3-6584cd2b9d93",
        "colab": {
          "base_uri": "https://localhost:8080/",
          "height": 109
        }
      },
      "source": [
        "x_train_new[:5,:2].round(2)"
      ],
      "execution_count": 0,
      "outputs": [
        {
          "output_type": "execute_result",
          "data": {
            "text/plain": [
              "array([[-0.3 , -0.58],\n",
              "       [-1.37,  0.82],\n",
              "       [-0.18, -0.38],\n",
              "       [-1.25, -0.78],\n",
              "       [ 0.65,  0.62]])"
            ]
          },
          "metadata": {
            "tags": []
          },
          "execution_count": 10
        }
      ]
    },
    {
      "cell_type": "markdown",
      "metadata": {
        "id": "YBdbecJVMlwO",
        "colab_type": "text"
      },
      "source": [
        "#**Visualization**\n",
        "##Here i am defining a function to plot the \"mse loss vs epochs\" graph and \"mae vs epochs\" graph. Basically i am plotting the error and loss graph of every model."
      ]
    },
    {
      "cell_type": "code",
      "metadata": {
        "id": "Ax077dHPAFOG",
        "colab_type": "code",
        "colab": {}
      },
      "source": [
        "import matplotlib.pyplot as plt\n",
        "epoch = 30 \n",
        "def plot_learningCurve(history):\n",
        "  # Plot training & validation accuracy values\n",
        "  epoch_range = range(1, epoch+1)\n",
        "  #plotting the mae vs epoch of training set\n",
        "  plt.plot(epoch_range, history.history['mae'])\n",
        "  #plotting the val_mae vs epoch of the validation dataset.\n",
        "  plt.plot(epoch_range, history.history['val_mae'])\n",
        "  plt.ylim([0, 2])\n",
        "  plt.title('Model mae')\n",
        "  plt.ylabel('mae')\n",
        "  plt.xlabel('Epoch')\n",
        "  plt.legend(['Train', 'Val'], loc='upper right')\n",
        "  plt.show()\n",
        "\n",
        "  print(\"--------------------------------------------------------\")\n",
        "\n",
        "  # Plot training & validation loss values\n",
        "  plt.plot(epoch_range, history.history['loss'])\n",
        "  plt.plot(epoch_range, history.history['val_loss'])\n",
        "  plt.ylim([0, 4])\n",
        "  plt.title('Model loss')\n",
        "  plt.ylabel('Loss')\n",
        "  plt.xlabel('Epoch')\n",
        "  plt.legend(['Train', 'Val'], loc='upper right')\n",
        "  plt.show()"
      ],
      "execution_count": 0,
      "outputs": []
    },
    {
      "cell_type": "code",
      "metadata": {
        "id": "PYSyEB8_4GJO",
        "colab_type": "code",
        "colab": {}
      },
      "source": [
        "import tensorflow as tf\n",
        "from tensorflow import keras"
      ],
      "execution_count": 0,
      "outputs": []
    },
    {
      "cell_type": "markdown",
      "metadata": {
        "id": "XtbjrTXvO5xW",
        "colab_type": "text"
      },
      "source": [
        "#**Building model** :\n",
        "## **Here I'll be creating different models, to analyze different results from different models. As there will be a change in parameters , And the we can do some analysis as how the change in parameters and change in hidden layers effects the results.**\n",
        "\n",
        "##**Then I'll perform some hyper parameter tuning to improve the results of model and decrease the error of model.**"
      ]
    },
    {
      "cell_type": "markdown",
      "metadata": {
        "id": "RcgHQ5M2XVpY",
        "colab_type": "text"
      },
      "source": [
        "#**Small Model**  : \n",
        "\n",
        "##Here i am creating a simple model of 3 layers:\n",
        "\n",
        "###1st layer : First input layer of 11 input features.\n",
        "###2nd layer : 2nd is the hidden layer which have 16 neurons.\n",
        "###3rd layer : 3rd is the final output layer consisting of one final output neuron.\n",
        "\n",
        "##Then i have used 'adam' optimizer and 'mean_squarred_error\" as loss 'mae' as evaluation metrics.\n",
        "\n",
        "##history_small is the value which will be passed as history calllbacks in above visalization function. "
      ]
    },
    {
      "cell_type": "code",
      "metadata": {
        "id": "QX3BQ8nw41FW",
        "colab_type": "code",
        "outputId": "758a8655-b618-4222-a763-50ba74263fcf",
        "colab": {
          "base_uri": "https://localhost:8080/",
          "height": 1000
        }
      },
      "source": [
        "small_model = tf.keras.Sequential([\n",
        "                            tf.keras.layers.Dense(16 , activation = 'relu' , input_shape = (11 , )),\n",
        "                            tf.keras.layers.Dense(1)\n",
        "])\n",
        "\n",
        "small_model.compile(optimizer = 'adam' , loss = 'mse' , metrics = ['mae'])\n",
        "\n",
        "\n",
        "history_small = small_model.fit(x_train_new , y_train , batch_size=32, epochs = 30,verbose = 1 , validation_data= (x_val_new , y_val))"
      ],
      "execution_count": 0,
      "outputs": [
        {
          "output_type": "stream",
          "text": [
            "Train on 3954 samples, validate on 209 samples\n",
            "Epoch 1/30\n",
            "3954/3954 [==============================] - 0s 122us/sample - loss: 24.9744 - mae: 4.8012 - val_loss: 16.5111 - val_mae: 3.7909\n",
            "Epoch 2/30\n",
            "3954/3954 [==============================] - 0s 46us/sample - loss: 11.9109 - mae: 3.0915 - val_loss: 7.4722 - val_mae: 2.3390\n",
            "Epoch 3/30\n",
            "3954/3954 [==============================] - 0s 47us/sample - loss: 5.5874 - mae: 1.9892 - val_loss: 3.7071 - val_mae: 1.5839\n",
            "Epoch 4/30\n",
            "3954/3954 [==============================] - 0s 47us/sample - loss: 3.1834 - mae: 1.4462 - val_loss: 2.3886 - val_mae: 1.2711\n",
            "Epoch 5/30\n",
            "3954/3954 [==============================] - 0s 44us/sample - loss: 2.3637 - mae: 1.2234 - val_loss: 1.8374 - val_mae: 1.1205\n",
            "Epoch 6/30\n",
            "3954/3954 [==============================] - 0s 45us/sample - loss: 1.9768 - mae: 1.1092 - val_loss: 1.5483 - val_mae: 1.0334\n",
            "Epoch 7/30\n",
            "3954/3954 [==============================] - 0s 47us/sample - loss: 1.7161 - mae: 1.0335 - val_loss: 1.3466 - val_mae: 0.9614\n",
            "Epoch 8/30\n",
            "3954/3954 [==============================] - 0s 47us/sample - loss: 1.5198 - mae: 0.9700 - val_loss: 1.1901 - val_mae: 0.9051\n",
            "Epoch 9/30\n",
            "3954/3954 [==============================] - 0s 46us/sample - loss: 1.3557 - mae: 0.9153 - val_loss: 1.0675 - val_mae: 0.8513\n",
            "Epoch 10/30\n",
            "3954/3954 [==============================] - 0s 44us/sample - loss: 1.2296 - mae: 0.8682 - val_loss: 0.9781 - val_mae: 0.8059\n",
            "Epoch 11/30\n",
            "3954/3954 [==============================] - 0s 47us/sample - loss: 1.1220 - mae: 0.8293 - val_loss: 0.8842 - val_mae: 0.7654\n",
            "Epoch 12/30\n",
            "3954/3954 [==============================] - 0s 46us/sample - loss: 1.0309 - mae: 0.7948 - val_loss: 0.8174 - val_mae: 0.7299\n",
            "Epoch 13/30\n",
            "3954/3954 [==============================] - 0s 45us/sample - loss: 0.9511 - mae: 0.7628 - val_loss: 0.7608 - val_mae: 0.7013\n",
            "Epoch 14/30\n",
            "3954/3954 [==============================] - 0s 50us/sample - loss: 0.8805 - mae: 0.7340 - val_loss: 0.7027 - val_mae: 0.6755\n",
            "Epoch 15/30\n",
            "3954/3954 [==============================] - 0s 48us/sample - loss: 0.8204 - mae: 0.7081 - val_loss: 0.6645 - val_mae: 0.6525\n",
            "Epoch 16/30\n",
            "3954/3954 [==============================] - 0s 45us/sample - loss: 0.7675 - mae: 0.6851 - val_loss: 0.6241 - val_mae: 0.6379\n",
            "Epoch 17/30\n",
            "3954/3954 [==============================] - 0s 46us/sample - loss: 0.7227 - mae: 0.6650 - val_loss: 0.6011 - val_mae: 0.6235\n",
            "Epoch 18/30\n",
            "3954/3954 [==============================] - 0s 46us/sample - loss: 0.6844 - mae: 0.6472 - val_loss: 0.5791 - val_mae: 0.6088\n",
            "Epoch 19/30\n",
            "3954/3954 [==============================] - 0s 45us/sample - loss: 0.6528 - mae: 0.6315 - val_loss: 0.5738 - val_mae: 0.6092\n",
            "Epoch 20/30\n",
            "3954/3954 [==============================] - 0s 49us/sample - loss: 0.6219 - mae: 0.6158 - val_loss: 0.5644 - val_mae: 0.6002\n",
            "Epoch 21/30\n",
            "3954/3954 [==============================] - 0s 48us/sample - loss: 0.6030 - mae: 0.6061 - val_loss: 0.5543 - val_mae: 0.5882\n",
            "Epoch 22/30\n",
            "3954/3954 [==============================] - 0s 47us/sample - loss: 0.5813 - mae: 0.5948 - val_loss: 0.5423 - val_mae: 0.5801\n",
            "Epoch 23/30\n",
            "3954/3954 [==============================] - 0s 46us/sample - loss: 0.5697 - mae: 0.5877 - val_loss: 0.5714 - val_mae: 0.5993\n",
            "Epoch 24/30\n",
            "3954/3954 [==============================] - 0s 50us/sample - loss: 0.5605 - mae: 0.5844 - val_loss: 0.5448 - val_mae: 0.5792\n",
            "Epoch 25/30\n",
            "3954/3954 [==============================] - 0s 45us/sample - loss: 0.5495 - mae: 0.5776 - val_loss: 0.5467 - val_mae: 0.5783\n",
            "Epoch 26/30\n",
            "3954/3954 [==============================] - 0s 45us/sample - loss: 0.5423 - mae: 0.5738 - val_loss: 0.5440 - val_mae: 0.5748\n",
            "Epoch 27/30\n",
            "3954/3954 [==============================] - 0s 45us/sample - loss: 0.5352 - mae: 0.5702 - val_loss: 0.5539 - val_mae: 0.5750\n",
            "Epoch 28/30\n",
            "3954/3954 [==============================] - 0s 45us/sample - loss: 0.5293 - mae: 0.5682 - val_loss: 0.5589 - val_mae: 0.5791\n",
            "Epoch 29/30\n",
            "3954/3954 [==============================] - 0s 50us/sample - loss: 0.5249 - mae: 0.5655 - val_loss: 0.5537 - val_mae: 0.5730\n",
            "Epoch 30/30\n",
            "3954/3954 [==============================] - 0s 49us/sample - loss: 0.5205 - mae: 0.5632 - val_loss: 0.5564 - val_mae: 0.5709\n"
          ],
          "name": "stdout"
        }
      ]
    },
    {
      "cell_type": "markdown",
      "metadata": {
        "id": "Xlc4HidLRGcS",
        "colab_type": "text"
      },
      "source": [
        "##Plotting the graph"
      ]
    },
    {
      "cell_type": "code",
      "metadata": {
        "id": "DzF7hpl1Hdfa",
        "colab_type": "code",
        "outputId": "513547a1-2405-41d8-b99b-36c3c133305a",
        "colab": {
          "base_uri": "https://localhost:8080/",
          "height": 591
        }
      },
      "source": [
        "plot_learningCurve(history_small)"
      ],
      "execution_count": 0,
      "outputs": [
        {
          "output_type": "display_data",
          "data": {
            "image/png": "[encoded data removed]",
            "text/plain": [
              "<Figure size 432x288 with 1 Axes>"
            ]
          },
          "metadata": {
            "tags": []
          }
        },
        {
          "output_type": "stream",
          "text": [
            "--------------------------------------------------------\n"
          ],
          "name": "stdout"
        },
        {
          "output_type": "display_data",
          "data": {
            "image/png": "[encoded data removed]",
            "text/plain": [
              "<Figure size 432x288 with 1 Axes>"
            ]
          },
          "metadata": {
            "tags": []
          }
        }
      ]
    },
    {
      "cell_type": "code",
      "metadata": {
        "id": "2iI4wf-6944A",
        "colab_type": "code",
        "outputId": "a87e679e-01f8-48e0-e984-3f5622d5a763",
        "colab": {
          "base_uri": "https://localhost:8080/",
          "height": 206
        }
      },
      "source": [
        "x_test.head()"
      ],
      "execution_count": 0,
      "outputs": [
        {
          "output_type": "execute_result",
          "data": {
            "text/html": [
              "<div>\n",
              "<style scoped>\n",
              "    .dataframe tbody tr th:only-of-type {\n",
              "        vertical-align: middle;\n",
              "    }\n",
              "\n",
              "    .dataframe tbody tr th {\n",
              "        vertical-align: top;\n",
              "    }\n",
              "\n",
              "    .dataframe thead th {\n",
              "        text-align: right;\n",
              "    }\n",
              "</style>\n",
              "<table border=\"1\" class=\"dataframe\">\n",
              "  <thead>\n",
              "    <tr style=\"text-align: right;\">\n",
              "      <th></th>\n",
              "      <th>fixed acidity</th>\n",
              "      <th>volatile acidity</th>\n",
              "      <th>citric acid</th>\n",
              "      <th>residual sugar</th>\n",
              "      <th>chlorides</th>\n",
              "      <th>free sulfur dioxide</th>\n",
              "      <th>total sulfur dioxide</th>\n",
              "      <th>density</th>\n",
              "      <th>pH</th>\n",
              "      <th>sulphates</th>\n",
              "      <th>alcohol</th>\n",
              "    </tr>\n",
              "  </thead>\n",
              "  <tbody>\n",
              "    <tr>\n",
              "      <th>2762</th>\n",
              "      <td>7.3</td>\n",
              "      <td>0.32</td>\n",
              "      <td>0.35</td>\n",
              "      <td>1.40</td>\n",
              "      <td>0.050</td>\n",
              "      <td>8.0</td>\n",
              "      <td>163.0</td>\n",
              "      <td>0.99244</td>\n",
              "      <td>3.24</td>\n",
              "      <td>0.42</td>\n",
              "      <td>10.7</td>\n",
              "    </tr>\n",
              "    <tr>\n",
              "      <th>42</th>\n",
              "      <td>7.0</td>\n",
              "      <td>0.31</td>\n",
              "      <td>0.26</td>\n",
              "      <td>7.40</td>\n",
              "      <td>0.069</td>\n",
              "      <td>28.0</td>\n",
              "      <td>160.0</td>\n",
              "      <td>0.99540</td>\n",
              "      <td>3.13</td>\n",
              "      <td>0.46</td>\n",
              "      <td>9.8</td>\n",
              "    </tr>\n",
              "    <tr>\n",
              "      <th>1419</th>\n",
              "      <td>7.6</td>\n",
              "      <td>0.14</td>\n",
              "      <td>0.74</td>\n",
              "      <td>1.60</td>\n",
              "      <td>0.040</td>\n",
              "      <td>27.0</td>\n",
              "      <td>103.0</td>\n",
              "      <td>0.99160</td>\n",
              "      <td>3.07</td>\n",
              "      <td>0.40</td>\n",
              "      <td>10.8</td>\n",
              "    </tr>\n",
              "    <tr>\n",
              "      <th>3664</th>\n",
              "      <td>5.0</td>\n",
              "      <td>0.29</td>\n",
              "      <td>0.54</td>\n",
              "      <td>5.70</td>\n",
              "      <td>0.035</td>\n",
              "      <td>54.0</td>\n",
              "      <td>155.0</td>\n",
              "      <td>0.98976</td>\n",
              "      <td>3.27</td>\n",
              "      <td>0.34</td>\n",
              "      <td>12.9</td>\n",
              "    </tr>\n",
              "    <tr>\n",
              "      <th>2125</th>\n",
              "      <td>6.0</td>\n",
              "      <td>0.28</td>\n",
              "      <td>0.22</td>\n",
              "      <td>12.15</td>\n",
              "      <td>0.048</td>\n",
              "      <td>42.0</td>\n",
              "      <td>163.0</td>\n",
              "      <td>0.99570</td>\n",
              "      <td>3.20</td>\n",
              "      <td>0.46</td>\n",
              "      <td>10.1</td>\n",
              "    </tr>\n",
              "  </tbody>\n",
              "</table>\n",
              "</div>"
            ],
            "text/plain": [
              "      fixed acidity  volatile acidity  citric acid  ...    pH  sulphates  alcohol\n",
              "2762            7.3              0.32         0.35  ...  3.24       0.42     10.7\n",
              "42              7.0              0.31         0.26  ...  3.13       0.46      9.8\n",
              "1419            7.6              0.14         0.74  ...  3.07       0.40     10.8\n",
              "3664            5.0              0.29         0.54  ...  3.27       0.34     12.9\n",
              "2125            6.0              0.28         0.22  ...  3.20       0.46     10.1\n",
              "\n",
              "[5 rows x 11 columns]"
            ]
          },
          "metadata": {
            "tags": []
          },
          "execution_count": 15
        }
      ]
    },
    {
      "cell_type": "code",
      "metadata": {
        "id": "1jnUMUs-Ab2Y",
        "colab_type": "code",
        "outputId": "a1ab2909-1fbe-4f5b-8408-48530e5e744a",
        "colab": {
          "base_uri": "https://localhost:8080/",
          "height": 128
        }
      },
      "source": [
        "y_test.head()"
      ],
      "execution_count": 0,
      "outputs": [
        {
          "output_type": "execute_result",
          "data": {
            "text/plain": [
              "2762    5\n",
              "42      6\n",
              "1419    7\n",
              "3664    8\n",
              "2125    5\n",
              "Name: quality, dtype: int64"
            ]
          },
          "metadata": {
            "tags": []
          },
          "execution_count": 16
        }
      ]
    },
    {
      "cell_type": "markdown",
      "metadata": {
        "id": "2kDVYbt0RL_5",
        "colab_type": "text"
      },
      "source": [
        "#Creating an unseen data for testing the prediction powert of model.\n",
        "## **I'll use this same set of data for testing of every model which will be created after this**\n",
        "\n",
        "##Here you can see what small_model has predicted the wine quality of id 2125 : 5.51\n",
        "##And from y_test we can see id 2125 have the target value as : 5"
      ]
    },
    {
      "cell_type": "code",
      "metadata": {
        "id": "elIripbs9ZH9",
        "colab_type": "code",
        "colab": {}
      },
      "source": [
        "import numpy as np\n",
        "y_small = small_model.predict(sc_x.transform(np.array([[6.0 , 0.28 , 0.22 , 12.15 , 0.048 , 42.0 , 163.0 , 0.99570 , 3.20 , 0.46 , 10.1]])))"
      ],
      "execution_count": 0,
      "outputs": []
    },
    {
      "cell_type": "code",
      "metadata": {
        "id": "7sbbtPpr-Oye",
        "colab_type": "code",
        "outputId": "8fd5bad9-0541-49b2-c849-21debf4726ee",
        "colab": {
          "base_uri": "https://localhost:8080/",
          "height": 35
        }
      },
      "source": [
        "y_small[0][0]"
      ],
      "execution_count": 0,
      "outputs": [
        {
          "output_type": "execute_result",
          "data": {
            "text/plain": [
              "5.5261474"
            ]
          },
          "metadata": {
            "tags": []
          },
          "execution_count": 18
        }
      ]
    },
    {
      "cell_type": "markdown",
      "metadata": {
        "id": "_Mz1RVZzSPTx",
        "colab_type": "text"
      },
      "source": [
        "##Evaluating the results on test_set."
      ]
    },
    {
      "cell_type": "code",
      "metadata": {
        "id": "KIVqNDcE9OUH",
        "colab_type": "code",
        "outputId": "06e2c08d-ff47-493c-ac98-820fc2c754db",
        "colab": {
          "base_uri": "https://localhost:8080/",
          "height": 72
        }
      },
      "source": [
        "s_test_loss , s_test_mae = small_model.evaluate(x_test_new , y_test , batch_size=32 , verbose=1)\n",
        "print(\"small model test_loss : {}\".format(s_test_loss))\n",
        "print(\"small model test_mae : {} \".format(s_test_mae))"
      ],
      "execution_count": 0,
      "outputs": [
        {
          "output_type": "stream",
          "text": [
            "735/735 [==============================] - 0s 37us/sample - loss: 0.5944 - mae: 0.6013\n",
            "small model test_loss : 0.5944018258529455\n",
            "small model test_mae : 0.6013163924217224 \n"
          ],
          "name": "stdout"
        }
      ]
    },
    {
      "cell_type": "markdown",
      "metadata": {
        "id": "vwFQR7rYSjpZ",
        "colab_type": "text"
      },
      "source": [
        "#**Medium Model** :\n",
        "##Here i am creating a medium model of 5 layers:\n",
        "\n",
        "###1st layer : First input layer of 11 input features.\n",
        "###2nd layer : 2nd is the hidden layer which have 64 neurons.\n",
        "###3rd layer : 3rd is the hidden layer which have 64 neurons.\n",
        "###4th layer : 4th is the hidden layer which have 64 neurons\n",
        "###5th layer : 5th is the final output layer consisting of one final output neuron.\n",
        "\n",
        "##Then i have used 'adam' optimizer and 'mean_squarred_error\" as loss 'mae' as evaluation metrics.\n",
        "\n",
        "##history_medium is the value which will be passed as history callbacks in theabove visalization function. "
      ]
    },
    {
      "cell_type": "code",
      "metadata": {
        "id": "50_COLsRIPzM",
        "colab_type": "code",
        "outputId": "37edff14-4948-4759-de23-010b076689bd",
        "colab": {
          "base_uri": "https://localhost:8080/",
          "height": 1000
        }
      },
      "source": [
        "medium_model = tf.keras.Sequential([\n",
        "                               tf.keras.layers.Dense(64 , activation = 'relu' , input_shape = (11, )),\n",
        "                               tf.keras.layers.Dense(64 , activation = 'relu'),\n",
        "                               tf.keras.layers.Dense(64 , activation = 'relu'),\n",
        "                               tf.keras.layers.Dense(1)\n",
        "])\n",
        "\n",
        "medium_model.compile(loss = 'mse' , optimizer= 'adam' , metrics = ['mae'])\n",
        "\n",
        "\n",
        "history_medium = medium_model.fit(x_train_new , y_train , batch_size=32, epochs = 30,verbose = 1 , validation_data= (x_val_new , y_val))"
      ],
      "execution_count": 0,
      "outputs": [
        {
          "output_type": "stream",
          "text": [
            "Train on 3954 samples, validate on 209 samples\n",
            "Epoch 1/30\n",
            "3954/3954 [==============================] - 1s 159us/sample - loss: 7.3737 - mae: 2.0667 - val_loss: 1.7974 - val_mae: 1.1263\n",
            "Epoch 2/30\n",
            "3954/3954 [==============================] - 0s 67us/sample - loss: 1.7061 - mae: 0.9951 - val_loss: 1.0418 - val_mae: 0.8354\n",
            "Epoch 3/30\n",
            "3954/3954 [==============================] - 0s 65us/sample - loss: 1.0362 - mae: 0.7788 - val_loss: 0.6720 - val_mae: 0.6612\n",
            "Epoch 4/30\n",
            "3954/3954 [==============================] - 0s 64us/sample - loss: 0.7054 - mae: 0.6500 - val_loss: 0.5661 - val_mae: 0.5760\n",
            "Epoch 5/30\n",
            "3954/3954 [==============================] - 0s 63us/sample - loss: 0.5761 - mae: 0.5912 - val_loss: 0.5641 - val_mae: 0.5733\n",
            "Epoch 6/30\n",
            "3954/3954 [==============================] - 0s 63us/sample - loss: 0.5308 - mae: 0.5649 - val_loss: 0.5804 - val_mae: 0.5929\n",
            "Epoch 7/30\n",
            "3954/3954 [==============================] - 0s 60us/sample - loss: 0.5026 - mae: 0.5486 - val_loss: 0.5246 - val_mae: 0.5535\n",
            "Epoch 8/30\n",
            "3954/3954 [==============================] - 0s 61us/sample - loss: 0.4808 - mae: 0.5382 - val_loss: 0.5375 - val_mae: 0.5560\n",
            "Epoch 9/30\n",
            "3954/3954 [==============================] - 0s 65us/sample - loss: 0.4782 - mae: 0.5367 - val_loss: 0.5438 - val_mae: 0.5579\n",
            "Epoch 10/30\n",
            "3954/3954 [==============================] - 0s 63us/sample - loss: 0.4640 - mae: 0.5287 - val_loss: 0.6409 - val_mae: 0.6202\n",
            "Epoch 11/30\n",
            "3954/3954 [==============================] - 0s 67us/sample - loss: 0.4595 - mae: 0.5282 - val_loss: 0.5317 - val_mae: 0.5654\n",
            "Epoch 12/30\n",
            "3954/3954 [==============================] - 0s 62us/sample - loss: 0.4463 - mae: 0.5204 - val_loss: 0.5238 - val_mae: 0.5548\n",
            "Epoch 13/30\n",
            "3954/3954 [==============================] - 0s 64us/sample - loss: 0.4434 - mae: 0.5157 - val_loss: 0.5580 - val_mae: 0.5747\n",
            "Epoch 14/30\n",
            "3954/3954 [==============================] - 0s 73us/sample - loss: 0.4416 - mae: 0.5166 - val_loss: 0.5179 - val_mae: 0.5513\n",
            "Epoch 15/30\n",
            "3954/3954 [==============================] - 0s 64us/sample - loss: 0.4418 - mae: 0.5142 - val_loss: 0.5044 - val_mae: 0.5474\n",
            "Epoch 16/30\n",
            "3954/3954 [==============================] - 0s 66us/sample - loss: 0.4195 - mae: 0.5047 - val_loss: 0.5384 - val_mae: 0.5672\n",
            "Epoch 17/30\n",
            "3954/3954 [==============================] - 0s 66us/sample - loss: 0.4324 - mae: 0.5109 - val_loss: 0.5424 - val_mae: 0.5811\n",
            "Epoch 18/30\n",
            "3954/3954 [==============================] - 0s 67us/sample - loss: 0.4128 - mae: 0.4993 - val_loss: 0.5160 - val_mae: 0.5542\n",
            "Epoch 19/30\n",
            "3954/3954 [==============================] - 0s 67us/sample - loss: 0.4151 - mae: 0.4990 - val_loss: 0.5437 - val_mae: 0.5660\n",
            "Epoch 20/30\n",
            "3954/3954 [==============================] - 0s 65us/sample - loss: 0.4103 - mae: 0.4959 - val_loss: 0.5282 - val_mae: 0.5587\n",
            "Epoch 21/30\n",
            "3954/3954 [==============================] - 0s 67us/sample - loss: 0.4049 - mae: 0.4911 - val_loss: 0.5165 - val_mae: 0.5364\n",
            "Epoch 22/30\n",
            "3954/3954 [==============================] - 0s 62us/sample - loss: 0.3945 - mae: 0.4866 - val_loss: 0.5212 - val_mae: 0.5426\n",
            "Epoch 23/30\n",
            "3954/3954 [==============================] - 0s 68us/sample - loss: 0.4027 - mae: 0.4904 - val_loss: 0.5089 - val_mae: 0.5482\n",
            "Epoch 24/30\n",
            "3954/3954 [==============================] - 0s 63us/sample - loss: 0.4016 - mae: 0.4894 - val_loss: 0.5669 - val_mae: 0.5630\n",
            "Epoch 25/30\n",
            "3954/3954 [==============================] - 0s 62us/sample - loss: 0.3951 - mae: 0.4886 - val_loss: 0.5485 - val_mae: 0.5678\n",
            "Epoch 26/30\n",
            "3954/3954 [==============================] - 0s 64us/sample - loss: 0.3854 - mae: 0.4829 - val_loss: 0.5273 - val_mae: 0.5539\n",
            "Epoch 27/30\n",
            "3954/3954 [==============================] - 0s 62us/sample - loss: 0.3823 - mae: 0.4780 - val_loss: 0.5299 - val_mae: 0.5371\n",
            "Epoch 28/30\n",
            "3954/3954 [==============================] - 0s 62us/sample - loss: 0.3766 - mae: 0.4762 - val_loss: 0.5139 - val_mae: 0.5495\n",
            "Epoch 29/30\n",
            "3954/3954 [==============================] - 0s 71us/sample - loss: 0.3777 - mae: 0.4781 - val_loss: 0.5076 - val_mae: 0.5444\n",
            "Epoch 30/30\n",
            "3954/3954 [==============================] - 0s 66us/sample - loss: 0.3849 - mae: 0.4816 - val_loss: 0.5096 - val_mae: 0.5414\n"
          ],
          "name": "stdout"
        }
      ]
    },
    {
      "cell_type": "markdown",
      "metadata": {
        "id": "J_K9OzGjTgbb",
        "colab_type": "text"
      },
      "source": [
        "##Plotting the graph.\n",
        "##As we can see the smoothness of graph is decreased. As we can clearly there is **overfitting**.\n",
        "##Training set error and loss is less than the error and loss of validation set."
      ]
    },
    {
      "cell_type": "code",
      "metadata": {
        "id": "Nuoy1tN9LbgD",
        "colab_type": "code",
        "outputId": "5f771a10-9249-465a-e706-7ec1dd8c0190",
        "colab": {
          "base_uri": "https://localhost:8080/",
          "height": 591
        }
      },
      "source": [
        "plot_learningCurve(history_medium)"
      ],
      "execution_count": 0,
      "outputs": [
        {
          "output_type": "display_data",
          "data": {
            "image/png": "[encoded data removed]",
            "text/plain": [
              "<Figure size 432x288 with 1 Axes>"
            ]
          },
          "metadata": {
            "tags": []
          }
        },
        {
          "output_type": "stream",
          "text": [
            "--------------------------------------------------------\n"
          ],
          "name": "stdout"
        },
        {
          "output_type": "display_data",
          "data": {
            "image/png": "[encoded data removed]",
            "text/plain": [
              "<Figure size 432x288 with 1 Axes>"
            ]
          },
          "metadata": {
            "tags": []
          }
        }
      ]
    },
    {
      "cell_type": "markdown",
      "metadata": {
        "id": "0A4LhsxHU2BX",
        "colab_type": "text"
      },
      "source": [
        "#Testing the predciting power of model on unseen data:\n",
        "##Here you can see what medium_model has predicted the wine quality of id 2125 : 5.36\n",
        "##And from y_test we can see id 2125 have the target value as : 5"
      ]
    },
    {
      "cell_type": "code",
      "metadata": {
        "id": "V2BarBl9L5gr",
        "colab_type": "code",
        "colab": {}
      },
      "source": [
        "y_medium = medium_model.predict(sc_x.transform(np.array([[6.0 , 0.28 , 0.22 , 12.15 , 0.048 , 42.0 , 163.0 , 0.99570 , 3.20 , 0.46 , 10.1]])))"
      ],
      "execution_count": 0,
      "outputs": []
    },
    {
      "cell_type": "code",
      "metadata": {
        "id": "Lay32THDMZwz",
        "colab_type": "code",
        "outputId": "392e625e-f97c-4aca-adb9-e41647212203",
        "colab": {
          "base_uri": "https://localhost:8080/",
          "height": 35
        }
      },
      "source": [
        "y_medium[0][0]"
      ],
      "execution_count": 0,
      "outputs": [
        {
          "output_type": "execute_result",
          "data": {
            "text/plain": [
              "5.361778"
            ]
          },
          "metadata": {
            "tags": []
          },
          "execution_count": 24
        }
      ]
    },
    {
      "cell_type": "markdown",
      "metadata": {
        "id": "vnxm46biVD8Q",
        "colab_type": "text"
      },
      "source": [
        "##Evaluating the loss and mae of test data:"
      ]
    },
    {
      "cell_type": "code",
      "metadata": {
        "id": "Qd14ODj3MbtK",
        "colab_type": "code",
        "outputId": "37fd5964-06d2-41c1-e515-8b6c507ace91",
        "colab": {
          "base_uri": "https://localhost:8080/",
          "height": 72
        }
      },
      "source": [
        "m_test_loss , m_test_mae = medium_model.evaluate(x_test_new , y_test , batch_size=32 , verbose=1)\n",
        "print(\"medium model test_loss : {}\".format(m_test_loss))\n",
        "print(\"medium model test_mae : {}\".format(m_test_mae))"
      ],
      "execution_count": 0,
      "outputs": [
        {
          "output_type": "stream",
          "text": [
            "735/735 [==============================] - 0s 43us/sample - loss: 0.5838 - mae: 0.5798\n",
            "medium model test_loss : 0.5837814279154044\n",
            "medium model test_mae : 0.5797734260559082\n"
          ],
          "name": "stdout"
        }
      ]
    },
    {
      "cell_type": "markdown",
      "metadata": {
        "id": "io6UdAjFVPR-",
        "colab_type": "text"
      },
      "source": [
        "#**Large Model :** \n",
        "##Here i am creating a medium model of 6 layers:\n",
        "\n",
        "###1st layer : First input layer of 11 input features.\n",
        "###2nd layer : 2nd is the hidden layer which have 128 neurons.\n",
        "###3rd layer : 3rd is the hidden layer which have 128 neurons.\n",
        "###4th layer : 4th is the hidden layer which have 128 neurons\n",
        "###5th layer : 5th is the hidden layer which have 128 neurons\n",
        "###6th layer : 6th is the final output layer consisting of one final output neuron.\n",
        "\n",
        "##Then i have used 'adam' optimizer and 'mean_squarred_error\" as loss 'mae' as evaluation metrics.\n",
        "\n",
        "##history_medium is the value which will be passed as history callbacks in theabove visalization function. "
      ]
    },
    {
      "cell_type": "code",
      "metadata": {
        "id": "xlT3SHSZMrXi",
        "colab_type": "code",
        "outputId": "4b1425ec-332a-4302-c055-c5bbb109acaf",
        "colab": {
          "base_uri": "https://localhost:8080/",
          "height": 1000
        }
      },
      "source": [
        "large_model = tf.keras.Sequential([\n",
        "                               tf.keras.layers.Dense(128 , activation = 'relu' , input_shape = (11, )),\n",
        "                               tf.keras.layers.Dense(128 , activation = 'relu'),\n",
        "                               tf.keras.layers.Dense(128 , activation = 'relu'),\n",
        "                               tf.keras.layers.Dense(128 , activation = 'relu'),\n",
        "                               tf.keras.layers.Dense(1)\n",
        "])\n",
        "\n",
        "large_model.compile(loss = 'mse' , optimizer= 'adam' , metrics = ['mae'])\n",
        "\n",
        "\n",
        "history_large = large_model.fit(x_train_new , y_train , batch_size=32, epochs = 30,verbose = 1 , validation_data= (x_val_new , y_val))"
      ],
      "execution_count": 0,
      "outputs": [
        {
          "output_type": "stream",
          "text": [
            "Train on 3954 samples, validate on 209 samples\n",
            "Epoch 1/30\n",
            "3954/3954 [==============================] - 1s 175us/sample - loss: 4.7160 - mae: 1.5721 - val_loss: 1.3101 - val_mae: 0.9247\n",
            "Epoch 2/30\n",
            "3954/3954 [==============================] - 0s 80us/sample - loss: 1.1692 - mae: 0.8326 - val_loss: 0.6276 - val_mae: 0.6180\n",
            "Epoch 3/30\n",
            "3954/3954 [==============================] - 0s 81us/sample - loss: 0.6427 - mae: 0.6243 - val_loss: 0.6357 - val_mae: 0.6263\n",
            "Epoch 4/30\n",
            "3954/3954 [==============================] - 0s 79us/sample - loss: 0.5350 - mae: 0.5684 - val_loss: 0.5344 - val_mae: 0.5621\n",
            "Epoch 5/30\n",
            "3954/3954 [==============================] - 0s 78us/sample - loss: 0.5005 - mae: 0.5538 - val_loss: 0.5322 - val_mae: 0.5405\n",
            "Epoch 6/30\n",
            "3954/3954 [==============================] - 0s 78us/sample - loss: 0.4706 - mae: 0.5363 - val_loss: 0.5120 - val_mae: 0.5245\n",
            "Epoch 7/30\n",
            "3954/3954 [==============================] - 0s 76us/sample - loss: 0.4505 - mae: 0.5236 - val_loss: 0.5481 - val_mae: 0.5568\n",
            "Epoch 8/30\n",
            "3954/3954 [==============================] - 0s 80us/sample - loss: 0.4406 - mae: 0.5171 - val_loss: 0.5776 - val_mae: 0.5895\n",
            "Epoch 9/30\n",
            "3954/3954 [==============================] - 0s 79us/sample - loss: 0.4383 - mae: 0.5186 - val_loss: 0.5188 - val_mae: 0.5620\n",
            "Epoch 10/30\n",
            "3954/3954 [==============================] - 0s 83us/sample - loss: 0.4069 - mae: 0.4962 - val_loss: 0.5092 - val_mae: 0.5559\n",
            "Epoch 11/30\n",
            "3954/3954 [==============================] - 0s 78us/sample - loss: 0.4206 - mae: 0.5078 - val_loss: 0.5321 - val_mae: 0.5592\n",
            "Epoch 12/30\n",
            "3954/3954 [==============================] - 0s 79us/sample - loss: 0.3974 - mae: 0.4947 - val_loss: 0.5381 - val_mae: 0.5607\n",
            "Epoch 13/30\n",
            "3954/3954 [==============================] - 0s 77us/sample - loss: 0.3992 - mae: 0.4927 - val_loss: 0.5715 - val_mae: 0.5760\n",
            "Epoch 14/30\n",
            "3954/3954 [==============================] - 0s 79us/sample - loss: 0.3897 - mae: 0.4875 - val_loss: 0.5255 - val_mae: 0.5620\n",
            "Epoch 15/30\n",
            "3954/3954 [==============================] - 0s 77us/sample - loss: 0.3712 - mae: 0.4742 - val_loss: 0.5370 - val_mae: 0.5407\n",
            "Epoch 16/30\n",
            "3954/3954 [==============================] - 0s 78us/sample - loss: 0.3683 - mae: 0.4723 - val_loss: 0.4992 - val_mae: 0.5441\n",
            "Epoch 17/30\n",
            "3954/3954 [==============================] - 0s 79us/sample - loss: 0.3543 - mae: 0.4611 - val_loss: 0.5243 - val_mae: 0.5328\n",
            "Epoch 18/30\n",
            "3954/3954 [==============================] - 0s 79us/sample - loss: 0.3374 - mae: 0.4501 - val_loss: 0.4871 - val_mae: 0.5278\n",
            "Epoch 19/30\n",
            "3954/3954 [==============================] - 0s 78us/sample - loss: 0.3280 - mae: 0.4447 - val_loss: 0.5006 - val_mae: 0.5279\n",
            "Epoch 20/30\n",
            "3954/3954 [==============================] - 0s 80us/sample - loss: 0.3140 - mae: 0.4336 - val_loss: 0.5119 - val_mae: 0.5287\n",
            "Epoch 21/30\n",
            "3954/3954 [==============================] - 0s 86us/sample - loss: 0.3177 - mae: 0.4337 - val_loss: 0.5949 - val_mae: 0.5858\n",
            "Epoch 22/30\n",
            "3954/3954 [==============================] - 0s 80us/sample - loss: 0.3103 - mae: 0.4305 - val_loss: 0.4928 - val_mae: 0.5184\n",
            "Epoch 23/30\n",
            "3954/3954 [==============================] - 0s 80us/sample - loss: 0.3142 - mae: 0.4350 - val_loss: 0.5012 - val_mae: 0.5239\n",
            "Epoch 24/30\n",
            "3954/3954 [==============================] - 0s 77us/sample - loss: 0.3068 - mae: 0.4294 - val_loss: 0.4849 - val_mae: 0.5136\n",
            "Epoch 25/30\n",
            "3954/3954 [==============================] - 0s 78us/sample - loss: 0.2941 - mae: 0.4190 - val_loss: 0.5031 - val_mae: 0.5223\n",
            "Epoch 26/30\n",
            "3954/3954 [==============================] - 0s 78us/sample - loss: 0.2764 - mae: 0.4082 - val_loss: 0.5006 - val_mae: 0.5353\n",
            "Epoch 27/30\n",
            "3954/3954 [==============================] - 0s 80us/sample - loss: 0.2799 - mae: 0.4101 - val_loss: 0.5445 - val_mae: 0.5422\n",
            "Epoch 28/30\n",
            "3954/3954 [==============================] - 0s 80us/sample - loss: 0.2723 - mae: 0.4036 - val_loss: 0.6245 - val_mae: 0.6093\n",
            "Epoch 29/30\n",
            "3954/3954 [==============================] - 0s 78us/sample - loss: 0.2769 - mae: 0.4092 - val_loss: 0.5159 - val_mae: 0.5290\n",
            "Epoch 30/30\n",
            "3954/3954 [==============================] - 0s 81us/sample - loss: 0.2490 - mae: 0.3825 - val_loss: 0.5547 - val_mae: 0.5682\n"
          ],
          "name": "stdout"
        }
      ]
    },
    {
      "cell_type": "markdown",
      "metadata": {
        "id": "fc00EUZbVsml",
        "colab_type": "text"
      },
      "source": [
        "#Plotting the curve :\n",
        "##As we can see, model has largely overfiited \n",
        "#**training set loss : 0.2368**\n",
        "#**validation set loss : 0.5547**\n",
        "#**Result of overfitting**"
      ]
    },
    {
      "cell_type": "code",
      "metadata": {
        "id": "dhbWD-V6NoAS",
        "colab_type": "code",
        "outputId": "f15beb08-9b78-4284-c26e-4a2825f2dca4",
        "colab": {
          "base_uri": "https://localhost:8080/",
          "height": 591
        }
      },
      "source": [
        "plot_learningCurve(history_large)"
      ],
      "execution_count": 0,
      "outputs": [
        {
          "output_type": "display_data",
          "data": {
            "image/png": "[encoded data removed]",
            "text/plain": [
              "<Figure size 432x288 with 1 Axes>"
            ]
          },
          "metadata": {
            "tags": []
          }
        },
        {
          "output_type": "stream",
          "text": [
            "--------------------------------------------------------\n"
          ],
          "name": "stdout"
        },
        {
          "output_type": "display_data",
          "data": {
            "image/png": "[encoded data removed]",
            "text/plain": [
              "<Figure size 432x288 with 1 Axes>"
            ]
          },
          "metadata": {
            "tags": []
          }
        }
      ]
    },
    {
      "cell_type": "markdown",
      "metadata": {
        "id": "VM6iSnQdWd2X",
        "colab_type": "text"
      },
      "source": [
        "##Testing model predicting powe on the same unseen data :\n",
        "##Here you can see what large_model has predicted the wine quality of id 2125 : 5.22\n",
        "##And from y_test we can see id 2125 have the target value as : 5"
      ]
    },
    {
      "cell_type": "code",
      "metadata": {
        "id": "4EZvWG-XN2RF",
        "colab_type": "code",
        "outputId": "c3b871ef-82df-4129-f922-f718e76eee13",
        "colab": {
          "base_uri": "https://localhost:8080/",
          "height": 35
        }
      },
      "source": [
        "y_large = large_model.predict(sc_x.transform(np.array([[6.0 , 0.28 , 0.22 , 12.15 , 0.048 , 42.0 , 163.0 , 0.99570 , 3.20 , 0.46 , 10.1]])))\n",
        "print(y_large[0][0])"
      ],
      "execution_count": 0,
      "outputs": [
        {
          "output_type": "stream",
          "text": [
            "5.288604\n"
          ],
          "name": "stdout"
        }
      ]
    },
    {
      "cell_type": "markdown",
      "metadata": {
        "id": "IfhzLTNpW_ky",
        "colab_type": "text"
      },
      "source": [
        "##Evaluating the loss and error of test data"
      ]
    },
    {
      "cell_type": "code",
      "metadata": {
        "id": "YTeedmNgOQTL",
        "colab_type": "code",
        "outputId": "93900d9a-4ceb-4551-926c-20e9a185e25c",
        "colab": {
          "base_uri": "https://localhost:8080/",
          "height": 72
        }
      },
      "source": [
        "l_test_loss , l_test_mae = large_model.evaluate(x_test_new , y_test , batch_size=32 , verbose=1)\n",
        "print(\"large model test_loss : {}\".format(l_test_loss))\n",
        "print(\"large model test_mae : {}\".format(l_test_mae))"
      ],
      "execution_count": 0,
      "outputs": [
        {
          "output_type": "stream",
          "text": [
            "735/735 [==============================] - 0s 40us/sample - loss: 0.5418 - mae: 0.5538\n",
            "large model test_loss : 0.5417821284459562\n",
            "large model test_mae : 0.5537858605384827\n"
          ],
          "name": "stdout"
        }
      ]
    },
    {
      "cell_type": "markdown",
      "metadata": {
        "id": "FxEYWDJxe0pE",
        "colab_type": "text"
      },
      "source": [
        "-----------------------------------------------------------------------------"
      ]
    },
    {
      "cell_type": "markdown",
      "metadata": {
        "id": "vkMMPFy9XH9u",
        "colab_type": "text"
      },
      "source": [
        "#Here we clearly have a case of **overfitting**., So i have done some optimzations to decrease overfitting of the model\n",
        "\n",
        "## 1st by changing the learning rate of model , to have better fitting of weights. I have done this by using RMSprop optimizer\n",
        "\n",
        "## 2nd by regulazring the weights by using kernel regulizer."
      ]
    },
    {
      "cell_type": "markdown",
      "metadata": {
        "id": "iIroOF1se5BP",
        "colab_type": "text"
      },
      "source": [
        "##Here i am creating a simple model of 4 layers:\n",
        "\n",
        "###1st layer : First input layer of 11 input features.\n",
        "###2nd layer : 2nd is the hidden layer which have 16 neurons.\n",
        "###3rd layer : 3rd is the hidden layer which have 16 neurons.\n",
        "###4th layer : 4th is the final output layer consisting of one final output neuron.\n",
        "\n",
        "##Then i have used 'RMSprop' with learning rate 0.001 optimizer and 'mean_squarred_error\" as loss 'mae' as evaluation metrics.\n",
        "\n",
        "##history_small is the value which will be passed as history calllbacks in above visalization function. "
      ]
    },
    {
      "cell_type": "code",
      "metadata": {
        "id": "XZ3wcO0FOnps",
        "colab_type": "code",
        "outputId": "5b0fab80-660a-4792-ff45-c244379aa0ff",
        "colab": {
          "base_uri": "https://localhost:8080/",
          "height": 1000
        }
      },
      "source": [
        "model_1 = tf.keras.Sequential([\n",
        "                            tf.keras.layers.Dense(16 , activation = 'relu' , input_shape = (11 , )),\n",
        "                            tf.keras.layers.Dense(16 , activation = 'relu'),\n",
        "                            tf.keras.layers.Dense(1)\n",
        "])\n",
        "\n",
        "optimizer =   optimizer = tf.keras.optimizers.RMSprop(0.001)\n",
        "\n",
        "model_1.compile(loss='mse', optimizer=optimizer, metrics=['mae'])\n",
        "\n",
        "history_1 = model_1.fit(x_train_new , y_train , batch_size=32, epochs = 30,verbose = 1 , validation_data= (x_val_new , y_val))"
      ],
      "execution_count": 0,
      "outputs": [
        {
          "output_type": "stream",
          "text": [
            "Train on 3954 samples, validate on 209 samples\n",
            "Epoch 1/30\n",
            "3954/3954 [==============================] - 1s 151us/sample - loss: 10.6396 - mae: 2.7941 - val_loss: 3.3406 - val_mae: 1.4807\n",
            "Epoch 2/30\n",
            "3954/3954 [==============================] - 0s 48us/sample - loss: 2.5827 - mae: 1.2373 - val_loss: 1.8174 - val_mae: 1.1118\n",
            "Epoch 3/30\n",
            "3954/3954 [==============================] - 0s 48us/sample - loss: 1.6493 - mae: 0.9789 - val_loss: 1.1958 - val_mae: 0.9094\n",
            "Epoch 4/30\n",
            "3954/3954 [==============================] - 0s 47us/sample - loss: 1.1864 - mae: 0.8287 - val_loss: 0.9058 - val_mae: 0.7853\n",
            "Epoch 5/30\n",
            "3954/3954 [==============================] - 0s 49us/sample - loss: 0.9323 - mae: 0.7348 - val_loss: 0.7773 - val_mae: 0.7127\n",
            "Epoch 6/30\n",
            "3954/3954 [==============================] - 0s 49us/sample - loss: 0.7755 - mae: 0.6754 - val_loss: 0.7033 - val_mae: 0.6607\n",
            "Epoch 7/30\n",
            "3954/3954 [==============================] - 0s 50us/sample - loss: 0.6837 - mae: 0.6340 - val_loss: 0.6104 - val_mae: 0.6132\n",
            "Epoch 8/30\n",
            "3954/3954 [==============================] - 0s 49us/sample - loss: 0.6223 - mae: 0.6071 - val_loss: 0.5851 - val_mae: 0.5945\n",
            "Epoch 9/30\n",
            "3954/3954 [==============================] - 0s 49us/sample - loss: 0.5874 - mae: 0.5906 - val_loss: 0.5695 - val_mae: 0.5765\n",
            "Epoch 10/30\n",
            "3954/3954 [==============================] - 0s 49us/sample - loss: 0.5623 - mae: 0.5778 - val_loss: 0.5748 - val_mae: 0.5775\n",
            "Epoch 11/30\n",
            "3954/3954 [==============================] - 0s 49us/sample - loss: 0.5453 - mae: 0.5706 - val_loss: 0.5600 - val_mae: 0.5586\n",
            "Epoch 12/30\n",
            "3954/3954 [==============================] - 0s 48us/sample - loss: 0.5325 - mae: 0.5637 - val_loss: 0.5535 - val_mae: 0.5675\n",
            "Epoch 13/30\n",
            "3954/3954 [==============================] - 0s 50us/sample - loss: 0.5223 - mae: 0.5579 - val_loss: 0.5490 - val_mae: 0.5517\n",
            "Epoch 14/30\n",
            "3954/3954 [==============================] - 0s 48us/sample - loss: 0.5155 - mae: 0.5552 - val_loss: 0.5477 - val_mae: 0.5635\n",
            "Epoch 15/30\n",
            "3954/3954 [==============================] - 0s 48us/sample - loss: 0.5070 - mae: 0.5518 - val_loss: 0.5495 - val_mae: 0.5578\n",
            "Epoch 16/30\n",
            "3954/3954 [==============================] - 0s 48us/sample - loss: 0.5030 - mae: 0.5493 - val_loss: 0.5475 - val_mae: 0.5460\n",
            "Epoch 17/30\n",
            "3954/3954 [==============================] - 0s 47us/sample - loss: 0.4961 - mae: 0.5454 - val_loss: 0.5721 - val_mae: 0.5802\n",
            "Epoch 18/30\n",
            "3954/3954 [==============================] - 0s 47us/sample - loss: 0.4941 - mae: 0.5453 - val_loss: 0.5453 - val_mae: 0.5509\n",
            "Epoch 19/30\n",
            "3954/3954 [==============================] - 0s 49us/sample - loss: 0.4888 - mae: 0.5436 - val_loss: 0.5268 - val_mae: 0.5478\n",
            "Epoch 20/30\n",
            "3954/3954 [==============================] - 0s 50us/sample - loss: 0.4873 - mae: 0.5411 - val_loss: 0.5528 - val_mae: 0.5674\n",
            "Epoch 21/30\n",
            "3954/3954 [==============================] - 0s 51us/sample - loss: 0.4828 - mae: 0.5401 - val_loss: 0.5326 - val_mae: 0.5454\n",
            "Epoch 22/30\n",
            "3954/3954 [==============================] - 0s 48us/sample - loss: 0.4803 - mae: 0.5378 - val_loss: 0.5242 - val_mae: 0.5413\n",
            "Epoch 23/30\n",
            "3954/3954 [==============================] - 0s 49us/sample - loss: 0.4791 - mae: 0.5383 - val_loss: 0.5307 - val_mae: 0.5507\n",
            "Epoch 24/30\n",
            "3954/3954 [==============================] - 0s 48us/sample - loss: 0.4763 - mae: 0.5377 - val_loss: 0.5249 - val_mae: 0.5497\n",
            "Epoch 25/30\n",
            "3954/3954 [==============================] - 0s 47us/sample - loss: 0.4733 - mae: 0.5351 - val_loss: 0.5424 - val_mae: 0.5740\n",
            "Epoch 26/30\n",
            "3954/3954 [==============================] - 0s 47us/sample - loss: 0.4728 - mae: 0.5358 - val_loss: 0.5212 - val_mae: 0.5569\n",
            "Epoch 27/30\n",
            "3954/3954 [==============================] - 0s 47us/sample - loss: 0.4686 - mae: 0.5345 - val_loss: 0.5306 - val_mae: 0.5625\n",
            "Epoch 28/30\n",
            "3954/3954 [==============================] - 0s 47us/sample - loss: 0.4663 - mae: 0.5329 - val_loss: 0.5269 - val_mae: 0.5534\n",
            "Epoch 29/30\n",
            "3954/3954 [==============================] - 0s 48us/sample - loss: 0.4656 - mae: 0.5322 - val_loss: 0.5459 - val_mae: 0.5594\n",
            "Epoch 30/30\n",
            "3954/3954 [==============================] - 0s 49us/sample - loss: 0.4655 - mae: 0.5313 - val_loss: 0.5269 - val_mae: 0.5629\n"
          ],
          "name": "stdout"
        }
      ]
    },
    {
      "cell_type": "markdown",
      "metadata": {
        "id": "IhWKhBc7X0-q",
        "colab_type": "text"
      },
      "source": [
        "## we can clearly see, the model is not overfitting now.\n",
        "##train_set mae : 0.5313\n",
        "##val_set loss : 0.5629\n",
        "\n",
        "##By plotting the graph also, we can see that the smoothness of graph have been increased. "
      ]
    },
    {
      "cell_type": "code",
      "metadata": {
        "id": "lyY817ccQByK",
        "colab_type": "code",
        "outputId": "f9992180-cd8b-4807-b04e-6ad910119f36",
        "colab": {
          "base_uri": "https://localhost:8080/",
          "height": 591
        }
      },
      "source": [
        "plot_learningCurve(history_1)"
      ],
      "execution_count": 0,
      "outputs": [
        {
          "output_type": "display_data",
          "data": {
            "image/png": "[encoded data removed]",
            "text/plain": [
              "<Figure size 432x288 with 1 Axes>"
            ]
          },
          "metadata": {
            "tags": []
          }
        },
        {
          "output_type": "stream",
          "text": [
            "--------------------------------------------------------\n"
          ],
          "name": "stdout"
        },
        {
          "output_type": "display_data",
          "data": {
            "image/png": "[encoded data removed]",
            "text/plain": [
              "<Figure size 432x288 with 1 Axes>"
            ]
          },
          "metadata": {
            "tags": []
          }
        }
      ]
    },
    {
      "cell_type": "markdown",
      "metadata": {
        "id": "V521o6c7YfcZ",
        "colab_type": "text"
      },
      "source": [
        "##Testing model predicting powe on the same unseen data :\n",
        "##Here you can see what model has predicted the wine quality of id 2125 : 5.7\n",
        "##And from y_test we can see id 2125 have the target value as : "
      ]
    },
    {
      "cell_type": "code",
      "metadata": {
        "id": "sLKVwU9_QNFa",
        "colab_type": "code",
        "outputId": "f75b214e-2f19-4637-80b1-ef7c456c211c",
        "colab": {
          "base_uri": "https://localhost:8080/",
          "height": 35
        }
      },
      "source": [
        "y_model_1 = model_1.predict(sc_x.transform(np.array([[6.0 , 0.28 , 0.22 , 12.15 , 0.048 , 42.0 , 163.0 , 0.99570 , 3.20 , 0.46 , 10.1]])))\n",
        "print(y_model_1[0][0])"
      ],
      "execution_count": 0,
      "outputs": [
        {
          "output_type": "stream",
          "text": [
            "5.7238154\n"
          ],
          "name": "stdout"
        }
      ]
    },
    {
      "cell_type": "markdown",
      "metadata": {
        "id": "R7Jt6P4IYiWQ",
        "colab_type": "text"
      },
      "source": [
        "##Evaluating the loss and error of test results."
      ]
    },
    {
      "cell_type": "code",
      "metadata": {
        "id": "TKJSZwQmQpOp",
        "colab_type": "code",
        "outputId": "591fde8e-5747-48c0-e0f4-208364586794",
        "colab": {
          "base_uri": "https://localhost:8080/",
          "height": 72
        }
      },
      "source": [
        "test_loss , test_mae = model_1.evaluate(x_test_new , y_test , batch_size=32 , verbose=1)\n",
        "print(\"model test_loss : {}\".format(test_loss))\n",
        "print(\"model test_mae : {}\".format(test_mae))"
      ],
      "execution_count": 0,
      "outputs": [
        {
          "output_type": "stream",
          "text": [
            "735/735 [==============================] - 0s 39us/sample - loss: 0.5616 - mae: 0.5859\n",
            "model test_loss : 0.5615698872780314\n",
            "model test_mae : 0.5859430432319641\n"
          ],
          "name": "stdout"
        }
      ]
    },
    {
      "cell_type": "markdown",
      "metadata": {
        "id": "kOoR8HSjYzDE",
        "colab_type": "text"
      },
      "source": [
        "##Another attempt to reduce overfitting."
      ]
    },
    {
      "cell_type": "code",
      "metadata": {
        "id": "mZg7xaftQ5CB",
        "colab_type": "code",
        "outputId": "4cd594f6-ef8e-4cdb-e1e0-086af5d44419",
        "colab": {
          "base_uri": "https://localhost:8080/",
          "height": 1000
        }
      },
      "source": [
        "model_2 = tf.keras.Sequential([\n",
        "                            tf.keras.layers.Dense(16 , activation = 'relu' , kernel_regularizer = tf.keras.regularizers.l2(0.001), input_shape = (11 , )),\n",
        "                            tf.keras.layers.Dense(16 , activation = 'relu' , kernel_regularizer = tf.keras.regularizers.l2(0.001)),\n",
        "                            tf.keras.layers.Dense(1)\n",
        "])\n",
        "\n",
        "optimizer = optimizer = tf.keras.optimizers.RMSprop(0.001)\n",
        "\n",
        "model_2.compile(loss='mse', optimizer=optimizer, metrics=['mae'])\n",
        "\n",
        "history_2 = model_2.fit(x_train_new , y_train , batch_size=32, epochs = 30,verbose = 1 , validation_data= (x_val_new , y_val))"
      ],
      "execution_count": 0,
      "outputs": [
        {
          "output_type": "stream",
          "text": [
            "Train on 3954 samples, validate on 209 samples\n",
            "Epoch 1/30\n",
            "3954/3954 [==============================] - 1s 150us/sample - loss: 19.5074 - mae: 4.1042 - val_loss: 12.7717 - val_mae: 3.1805\n",
            "Epoch 2/30\n",
            "3954/3954 [==============================] - 0s 47us/sample - loss: 8.5625 - mae: 2.5245 - val_loss: 4.6329 - val_mae: 1.8540\n",
            "Epoch 3/30\n",
            "3954/3954 [==============================] - 0s 46us/sample - loss: 3.3236 - mae: 1.4604 - val_loss: 2.3474 - val_mae: 1.2701\n",
            "Epoch 4/30\n",
            "3954/3954 [==============================] - 0s 49us/sample - loss: 2.2890 - mae: 1.1775 - val_loss: 1.6924 - val_mae: 1.0635\n",
            "Epoch 5/30\n",
            "3954/3954 [==============================] - 0s 46us/sample - loss: 1.7349 - mae: 1.0135 - val_loss: 1.2515 - val_mae: 0.9147\n",
            "Epoch 6/30\n",
            "3954/3954 [==============================] - 0s 46us/sample - loss: 1.3598 - mae: 0.8893 - val_loss: 0.9965 - val_mae: 0.8014\n",
            "Epoch 7/30\n",
            "3954/3954 [==============================] - 0s 47us/sample - loss: 1.1145 - mae: 0.7977 - val_loss: 0.8170 - val_mae: 0.7214\n",
            "Epoch 8/30\n",
            "3954/3954 [==============================] - 0s 46us/sample - loss: 0.9536 - mae: 0.7366 - val_loss: 0.7311 - val_mae: 0.6715\n",
            "Epoch 9/30\n",
            "3954/3954 [==============================] - 0s 45us/sample - loss: 0.8459 - mae: 0.6925 - val_loss: 0.6748 - val_mae: 0.6462\n",
            "Epoch 10/30\n",
            "3954/3954 [==============================] - 0s 48us/sample - loss: 0.7684 - mae: 0.6612 - val_loss: 0.6635 - val_mae: 0.6450\n",
            "Epoch 11/30\n",
            "3954/3954 [==============================] - 0s 48us/sample - loss: 0.7167 - mae: 0.6410 - val_loss: 0.6272 - val_mae: 0.6286\n",
            "Epoch 12/30\n",
            "3954/3954 [==============================] - 0s 48us/sample - loss: 0.6793 - mae: 0.6250 - val_loss: 0.6192 - val_mae: 0.6121\n",
            "Epoch 13/30\n",
            "3954/3954 [==============================] - 0s 49us/sample - loss: 0.6483 - mae: 0.6112 - val_loss: 0.6040 - val_mae: 0.6036\n",
            "Epoch 14/30\n",
            "3954/3954 [==============================] - 0s 51us/sample - loss: 0.6292 - mae: 0.6025 - val_loss: 0.5979 - val_mae: 0.6058\n",
            "Epoch 15/30\n",
            "3954/3954 [==============================] - 0s 49us/sample - loss: 0.6106 - mae: 0.5927 - val_loss: 0.5835 - val_mae: 0.5990\n",
            "Epoch 16/30\n",
            "3954/3954 [==============================] - 0s 48us/sample - loss: 0.5957 - mae: 0.5876 - val_loss: 0.5831 - val_mae: 0.5913\n",
            "Epoch 17/30\n",
            "3954/3954 [==============================] - 0s 50us/sample - loss: 0.5862 - mae: 0.5831 - val_loss: 0.5852 - val_mae: 0.6012\n",
            "Epoch 18/30\n",
            "3954/3954 [==============================] - 0s 47us/sample - loss: 0.5746 - mae: 0.5793 - val_loss: 0.5785 - val_mae: 0.5973\n",
            "Epoch 19/30\n",
            "3954/3954 [==============================] - 0s 45us/sample - loss: 0.5659 - mae: 0.5750 - val_loss: 0.5685 - val_mae: 0.5861\n",
            "Epoch 20/30\n",
            "3954/3954 [==============================] - 0s 48us/sample - loss: 0.5580 - mae: 0.5708 - val_loss: 0.5779 - val_mae: 0.5919\n",
            "Epoch 21/30\n",
            "3954/3954 [==============================] - 0s 48us/sample - loss: 0.5542 - mae: 0.5699 - val_loss: 0.5684 - val_mae: 0.5781\n",
            "Epoch 22/30\n",
            "3954/3954 [==============================] - 0s 49us/sample - loss: 0.5480 - mae: 0.5662 - val_loss: 0.5675 - val_mae: 0.5880\n",
            "Epoch 23/30\n",
            "3954/3954 [==============================] - 0s 54us/sample - loss: 0.5443 - mae: 0.5659 - val_loss: 0.5632 - val_mae: 0.5725\n",
            "Epoch 24/30\n",
            "3954/3954 [==============================] - 0s 50us/sample - loss: 0.5407 - mae: 0.5623 - val_loss: 0.5632 - val_mae: 0.5782\n",
            "Epoch 25/30\n",
            "3954/3954 [==============================] - 0s 48us/sample - loss: 0.5358 - mae: 0.5607 - val_loss: 0.5716 - val_mae: 0.5754\n",
            "Epoch 26/30\n",
            "3954/3954 [==============================] - 0s 51us/sample - loss: 0.5334 - mae: 0.5599 - val_loss: 0.5742 - val_mae: 0.5896\n",
            "Epoch 27/30\n",
            "3954/3954 [==============================] - 0s 48us/sample - loss: 0.5295 - mae: 0.5582 - val_loss: 0.5760 - val_mae: 0.5808\n",
            "Epoch 28/30\n",
            "3954/3954 [==============================] - 0s 46us/sample - loss: 0.5275 - mae: 0.5572 - val_loss: 0.5709 - val_mae: 0.5774\n",
            "Epoch 29/30\n",
            "3954/3954 [==============================] - 0s 48us/sample - loss: 0.5235 - mae: 0.5546 - val_loss: 0.5817 - val_mae: 0.5758\n",
            "Epoch 30/30\n",
            "3954/3954 [==============================] - 0s 48us/sample - loss: 0.5224 - mae: 0.5548 - val_loss: 0.5744 - val_mae: 0.5822\n"
          ],
          "name": "stdout"
        }
      ]
    },
    {
      "cell_type": "markdown",
      "metadata": {
        "id": "pt-vwrW9Y5di",
        "colab_type": "text"
      },
      "source": [
        "##Overfitting from origal model have been reduced."
      ]
    },
    {
      "cell_type": "code",
      "metadata": {
        "id": "EnI2cODSR22q",
        "colab_type": "code",
        "outputId": "c5413c24-b659-460c-bdf8-492b0f52f2f9",
        "colab": {
          "base_uri": "https://localhost:8080/",
          "height": 591
        }
      },
      "source": [
        "plot_learningCurve(history_2)"
      ],
      "execution_count": 0,
      "outputs": [
        {
          "output_type": "display_data",
          "data": {
            "image/png": "[encoded data removed]",
            "text/plain": [
              "<Figure size 432x288 with 1 Axes>"
            ]
          },
          "metadata": {
            "tags": []
          }
        },
        {
          "output_type": "stream",
          "text": [
            "--------------------------------------------------------\n"
          ],
          "name": "stdout"
        },
        {
          "output_type": "display_data",
          "data": {
            "image/png": "[encoded data removed]",
            "text/plain": [
              "<Figure size 432x288 with 1 Axes>"
            ]
          },
          "metadata": {
            "tags": []
          }
        }
      ]
    },
    {
      "cell_type": "markdown",
      "metadata": {
        "id": "G_HYPOgZZC0L",
        "colab_type": "text"
      },
      "source": [
        "##Testing model predicting powe on the same unseen data :\n",
        "##Here you can see what model has predicted the wine quality of id 2125 : 5.85\n",
        "##And from y_test we can see id 2125 have the target value as : "
      ]
    },
    {
      "cell_type": "code",
      "metadata": {
        "id": "KJdAbvdWTVDT",
        "colab_type": "code",
        "outputId": "fe3ac63e-ce82-4b75-9eff-52858a13987a",
        "colab": {
          "base_uri": "https://localhost:8080/",
          "height": 35
        }
      },
      "source": [
        "y_model_2 = model_2.predict(sc_x.transform(np.array([[6.0 , 0.28 , 0.22 , 12.15 , 0.048 , 42.0 , 163.0 , 0.99570 , 3.20 , 0.46 , 10.1]])))\n",
        "print(y_model_2[0][0])"
      ],
      "execution_count": 0,
      "outputs": [
        {
          "output_type": "stream",
          "text": [
            "5.8550153\n"
          ],
          "name": "stdout"
        }
      ]
    },
    {
      "cell_type": "code",
      "metadata": {
        "id": "9ns9JXK3T9AY",
        "colab_type": "code",
        "outputId": "80658800-827b-48d0-ab60-7690213aec98",
        "colab": {
          "base_uri": "https://localhost:8080/",
          "height": 72
        }
      },
      "source": [
        "test_loss , test_mae = model_2.evaluate(x_test_new , y_test , batch_size=32 , verbose=1)\n",
        "print(\"model test_loss : {}\".format(test_loss))\n",
        "print(\"model test_mae : {}\".format(test_mae))"
      ],
      "execution_count": 0,
      "outputs": [
        {
          "output_type": "stream",
          "text": [
            "735/735 [==============================] - 0s 37us/sample - loss: 0.6111 - mae: 0.6039\n",
            "model test_loss : 0.6110798672753938\n",
            "model test_mae : 0.6038542985916138\n"
          ],
          "name": "stdout"
        }
      ]
    }
  ]
}